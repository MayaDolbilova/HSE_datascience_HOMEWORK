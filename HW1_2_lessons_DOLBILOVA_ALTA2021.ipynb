{
 "cells": [
  {
   "cell_type": "markdown",
   "id": "d2e0c0fe",
   "metadata": {},
   "source": [
    "In many jurisdictions a small deposit is added to drink containers to encourage people to recycle them. In one particular jurisdiction, drink containers holding one liter or less have a \\$0.10 deposit, and drink containers holding more than one liter have a \\\\$0.25 deposit. Write a program that reads the number of containers of each size from the user. Your program should continue by computing and displaying the refund that will be received for returning those containers. Format the output so that it includes a dollar sign and two digits to the right of the decimal point."
   ]
  },
  {
   "cell_type": "code",
   "execution_count": 7,
   "id": "b2444183",
   "metadata": {},
   "outputs": [
    {
     "name": "stdout",
     "output_type": "stream",
     "text": [
      "What is the amount of containers holding one liter or less? 6\n",
      "What is the amount of containers holding  more than one liter? 5\n",
      "1.85$\n"
     ]
    }
   ],
   "source": [
    "deposite_small=0.10\n",
    "deposite_large=0.25\n",
    "small=int(input(\"What is the amount of containers holding one liter or less? \"))\n",
    "large=int(input(\"What is the amount of containers holding  more than one liter? \"))\n",
    "refund= round(((deposite_small*small)+(deposite_large*large)), 2)\n",
    "print(f\"{refund}$\")\n",
    "\n"
   ]
  },
  {
   "cell_type": "markdown",
   "id": "35dcc04b",
   "metadata": {},
   "source": [
    "Many people think about their height in feet and inches, even in some countries that primarily use the metric system. Write a program that reads a number of feet from the user, followed by a number of inches. Once these values are read, your program should compute and display the equivalent number of centimeters.\n",
    "\n",
    "Hint: One foot is 12 inches. One inch is 2.54 centimeters."
   ]
  },
  {
   "cell_type": "code",
   "execution_count": 8,
   "id": "92026c60",
   "metadata": {},
   "outputs": [
    {
     "name": "stdout",
     "output_type": "stream",
     "text": [
      "Please write your height in feet8\n",
      "Your height in centimeters is 243.84\n"
     ]
    }
   ],
   "source": [
    "height=int(input(\"Please write your height in feet \"))\n",
    "inches=height*12\n",
    "height_in_centimeters= inches*2.54\n",
    "print(f\"Your height in centimeters is {height_in_centimeters}\")"
   ]
  },
  {
   "cell_type": "markdown",
   "id": "afdb7556",
   "metadata": {},
   "source": [
    "Develop a program that reads a four-digit integer from the user and displays the sum of its digits. For example, if the user enters 3141 then your program should display 3 + 1 + 4 + 1 = 9."
   ]
  },
  {
   "cell_type": "code",
   "execution_count": 22,
   "id": "97512498",
   "metadata": {},
   "outputs": [
    {
     "name": "stdout",
     "output_type": "stream",
     "text": [
      "Give a four-digit integer 5678\n",
      "26\n"
     ]
    }
   ],
   "source": [
    "integer=input(\"Give a four-digit integer \")\n",
    "x=list(map(int, integer))\n",
    "y=sum(x)\n",
    "print(y)"
   ]
  },
  {
   "cell_type": "markdown",
   "id": "8eff0792",
   "metadata": {},
   "source": [
    "Create a program that reads three integers from the user and displays them in sorted order (from smallest to largest). Use the min and max functions to find the smallest and largest values. The middle value can be found by computing the sum of all three values, and then subtracting the minimum value and the maximum value."
   ]
  },
  {
   "cell_type": "code",
   "execution_count": 27,
   "id": "4c0a324f",
   "metadata": {},
   "outputs": [
    {
     "name": "stdout",
     "output_type": "stream",
     "text": [
      "Give three numbers 832\n",
      "2 3 8\n"
     ]
    }
   ],
   "source": [
    "number=input(\"Give three numbers \")\n",
    "numbers=list(map(int,number))\n",
    "big=max(numbers)\n",
    "small=min(numbers)\n",
    "average=sum(numbers) - big - small\n",
    "print(small, average,big)"
   ]
  },
  {
   "cell_type": "markdown",
   "id": "201922d1",
   "metadata": {},
   "source": [
    "LESSON 2"
   ]
  },
  {
   "cell_type": "markdown",
   "id": "bae61106",
   "metadata": {},
   "source": [
    "In this exercise you will create a program that reads a letter of the alphabet from the user. If the user enters a, e, i, o or u then your program should display a message indicating that the entered letter is a vowel. If the user enters y then your program should display a message indicating that sometimes y is a vowel, and sometimes y is a consonant. Otherwise your program should display a message indicating that the letter is a consonant."
   ]
  },
  {
   "cell_type": "code",
   "execution_count": 25,
   "id": "205120c2",
   "metadata": {},
   "outputs": [
    {
     "name": "stdout",
     "output_type": "stream",
     "text": [
      "Give a letter g\n",
      "g is consonant\n"
     ]
    }
   ],
   "source": [
    "vowel = [\"a\",\"e\",\"i\",\"o\",\"u\"]\n",
    "letter=input(\"Give a letter \")\n",
    "if letter not in vowel:\n",
    "    if letter!=\"y\":\n",
    "        print(f\"{letter} is consonant\")\n",
    "    else:\n",
    "        print(\"Letter y is a vowel and sometimes y is a consonant\")\n",
    "else:\n",
    "    print(f\"{letter} is vowel\")"
   ]
  },
  {
   "cell_type": "markdown",
   "id": "0d79db53",
   "metadata": {},
   "source": [
    "\n",
    "Noise\tDecibel Level\n",
    "Jackhammer\t130 dB\n",
    "Gas Lawnmower\t106 dB\n",
    "Alarm Clock\t70 dB\n",
    "Quite Room\t40 dB\n",
    "Write a program that reads a sound level in decibels from the user. If the user enters a decibel level that matches one of the noises in the table then your program should display a message containing only that noise. If the user enters a number of decibels between the noises listed then your program should display a message indicating which noises the value is between. Ensure that your program also generates reasonable output for a value smaller than the quietest noise in the table, and for a value larger than the loudest noise in the table."
   ]
  },
  {
   "cell_type": "code",
   "execution_count": 27,
   "id": "2adab335",
   "metadata": {},
   "outputs": [
    {
     "name": "stdout",
     "output_type": "stream",
     "text": [
      "Please give a sound level in decibels 32\n",
      "It's more quite than in quite room\n"
     ]
    }
   ],
   "source": [
    "\n",
    "decibels=int(input(\"Please give a sound level in decibels \"))\n",
    "jackhammer=130\n",
    "gaslawnmower=106\n",
    "alarmclock=70\n",
    "quiteroom=40\n",
    "if decibels<quiteroom:\n",
    "    print(\"It's more quite than in a quite room\")\n",
    "elif decibels>jackhammer:\n",
    "    print(\"It's louder that Jackhammer\")\n",
    "elif decibels==jackhammer:\n",
    "    print(\"Sounds like Jackhammer\")\n",
    "elif decibels== gaslawnmower:\n",
    "    print(\"Sounds like Gas lawnmower\")\n",
    "elif decibels == alarmclock:\n",
    "    print(\"Sounds like alarm clock\")\n",
    "elif decibels==quiteroom:\n",
    "    print(\"Sounds like quite room\")\n",
    "elif jackhammer>decibels>gaslawnmower:\n",
    "    print(\"Sounds like between Jackhammer and Gas Lawnmover\")\n",
    "elif gaslawnmower>decibels>alarmclock:\n",
    "    print(\"Sounds like between Gas Lawnmover and alarm clock\")\n",
    "elif alarmclock>decibels>quiteroom:\n",
    "    print(\"Sounds like between alarm clock and quite room\")\n"
   ]
  },
  {
   "cell_type": "markdown",
   "id": "576840f9",
   "metadata": {},
   "source": [
    "A roulette wheel has 38 spaces on it. Of these spaces, 18 are black, 18 are red, and two are green. The green spaces are numbered 0 and 00. The red spaces are numbered 1, 3, 5, 7, 9, 12, 14, 16, 18, 19, 21, 23, 25, 27, 30 32, 34 and 36. The remaining integers between 1 and 36 are used to number the black spaces.\n",
    "\n",
    "Many different bets can be placed in roulette. We will only consider the following subset of them in this exercise:\n",
    "\n",
    "Single number (1 to 36, 0, or 00)\n",
    "Red versus Black\n",
    "Odd versus Even (Note that 0 and 00 do not pay out for even)\n",
    "1 to 18 versus 19 to 36\n",
    "Write a program that simulates a spin of a roulette wheel by using Python’s random number generator. Display the number that was selected and all of the bets that must be payed. For example, if 13 is selected then your program should display:\n",
    "\n",
    "The  spin resulted in 13...\n",
    "Pay 13\n",
    "Pay Black\n",
    "Pay Odd\n",
    "Pay 1 to 18\n",
    "If the simulation results in 0 or 00 then your program should display Pay 0 or Pay 00 without any further output."
   ]
  },
  {
   "cell_type": "code",
   "execution_count": 130,
   "id": "6b41e9e2",
   "metadata": {},
   "outputs": [
    {
     "name": "stdout",
     "output_type": "stream",
     "text": [
      "The spin resulted in 1\n",
      "Pay 1\n",
      "Pay Red\n",
      "Pay Odd\n",
      "Pay 1 to 18\n"
     ]
    }
   ],
   "source": [
    "from random import*\n",
    "number=randint(0,36)\n",
    "print(\"The spin resulted in\", number)\n",
    "red=[1,3,5,7.9,12,14,16,18,19,21,23,25,27,30,32,34,36]\n",
    "if number in red:\n",
    "    if 1<=number<=18:\n",
    "        if number%2==0:\n",
    "            print(f\"Pay {number}\\nPay Red\\nPay Even\\nPay 1 to 18\")\n",
    "        else:\n",
    "             print(f\"Pay {number}\\nPay Red\\nPay Odd\\nPay 1 to 18\")\n",
    "            \n",
    "    else:\n",
    "        if number%2==0:\n",
    "            print(f\"Pay {number}\\nPay Red\\nPay Even\\nPay 19 to 36\")\n",
    "        else:\n",
    "             print(f\"Pay {number}\\nPay Red\\nPay Odd\\nPay 19 to 36\")\n",
    "elif number==0:\n",
    "    print(\"Pay 0\")\n",
    "else:\n",
    "    if 1<=number<=18:\n",
    "        if number%2==0:\n",
    "            print(f\"Pay {number}\\nPay Black\\nPay Even\\nPay 1 to 18\")\n",
    "        else:\n",
    "             print(f\"Pay {number}\\nPay Black\\nPay Odd\\nPay 1 to 18\")\n",
    "            \n",
    "    else:\n",
    "        if number%2==0:\n",
    "            print(f\"Pay {number}\\nPay Black\\nPay Even\\nPay 19 to 36\")\n",
    "        else:\n",
    "             print(f\"Pay {number}\\nPay Black\\nPay Odd\\nPay 19 to 36\")\n",
    "            \n",
    "            "
   ]
  },
  {
   "cell_type": "markdown",
   "id": "09d0e138",
   "metadata": {},
   "source": [
    " A string is a palindrome if it is identical forward and backward. For example “anna”, “civic”, “level” and “hannah” are all examples of palindromic words. Write a program that reads a string from the user and uses a loop to determine whether or not it is a palindrome. Display the result, including a meaningful output message."
   ]
  },
  {
   "cell_type": "code",
   "execution_count": 133,
   "id": "bb8a0e8b",
   "metadata": {},
   "outputs": [
    {
     "name": "stdout",
     "output_type": "stream",
     "text": [
      "civic\n",
      "It's a palindrome\n"
     ]
    }
   ],
   "source": [
    "string=input()\n",
    "if string==string[::-1]:\n",
    "    print(\"It's a palindrome\")\n",
    "else:\n",
    "    print(\"It's not a palindrome\")"
   ]
  }
 ],
 "metadata": {
  "kernelspec": {
   "display_name": "Python 3",
   "language": "python",
   "name": "python3"
  },
  "language_info": {
   "codemirror_mode": {
    "name": "ipython",
    "version": 3
   },
   "file_extension": ".py",
   "mimetype": "text/x-python",
   "name": "python",
   "nbconvert_exporter": "python",
   "pygments_lexer": "ipython3",
   "version": "3.8.8"
  }
 },
 "nbformat": 4,
 "nbformat_minor": 5
}
