{
 "cells": [
  {
   "cell_type": "markdown",
   "id": "dac3940b",
   "metadata": {},
   "source": [
    "1.Given the set of linear equations\n",
    "2x1+2x3=-2\n",
    "2x1-2x3=6\n",
    "3x2-x1=-1\n",
    "derive formulas for x1,x2,x3 (not necessary in this order) and write a Python program to compute the solution."
   ]
  },
  {
   "cell_type": "code",
   "execution_count": 38,
   "id": "b2b5a5cb",
   "metadata": {},
   "outputs": [
    {
     "name": "stdout",
     "output_type": "stream",
     "text": [
      "1.0 0.0 -2.0\n"
     ]
    }
   ],
   "source": [
    "a=[2.0,3.0]\n",
    "b=[-2.0, 6.0,-1.0]\n",
    "x2= (b[0]+b[1]+2*a[0]*b[2])/2*a[0]*a[1]\n",
    "x3= (-b[1]+a[0]*a[1]*x2-a[0]*b[2])/a[0]\n",
    "x1=a[1]*x2-b[2]\n",
    "print(x1,x2,x3)"
   ]
  },
  {
   "cell_type": "markdown",
   "id": "15c3912c",
   "metadata": {},
   "source": [
    "A unit vector directed along a coordinate axis contains all 0 except the single 1 at a certain position. For example in three-dimensional Cartesian coordinate system these vectors are (1,0,0),(0,1,0), and (0,0,1).\n",
    "\n",
    "Create a function that accepts two parameter: space dimension dim and an order number of a vector vec_num. This function has to return the corresponding unit vector. For example for dim=5 and vec_num=2 it hast to be (0,1,0,0,0) ."
   ]
  },
  {
   "cell_type": "code",
   "execution_count": 13,
   "id": "46f70609",
   "metadata": {},
   "outputs": [
    {
     "name": "stdout",
     "output_type": "stream",
     "text": [
      "Please, give a length of vector 5\n",
      "Please, give an order number of a vector 2\n"
     ]
    },
    {
     "data": {
      "text/plain": [
       "(0, 1, 0, 0, 0)"
      ]
     },
     "execution_count": 13,
     "metadata": {},
     "output_type": "execute_result"
    }
   ],
   "source": [
    "def vector (dim, vec_num):\n",
    "        x=0\n",
    "        list=[]\n",
    "        while x<dim:\n",
    "            list.append(0)\n",
    "            x+=1\n",
    "        list[vec_num-1]=1\n",
    "        c=tuple(list)\n",
    "        return c\n",
    "dim=int(input(\"Please, give a length of vector \"))\n",
    "vec_num=int(input(\"Please, give an order number of a vector \"))\n",
    "vector(dim,vec_num)\n",
    "            \n",
    "            "
   ]
  },
  {
   "cell_type": "markdown",
   "id": "e1c95f8c",
   "metadata": {},
   "source": [
    " Draw these three vectors\n",
    " v1=(0.98480775,0.17364818)\n",
    " v2=(-0.64278761,0.76604444)\n",
    " v3=(-0.34202014,-0.93969262)\n",
    "\n",
    "to demonstrate that their sum is zero. Use function draw_vector defined above or create your own better version if you like."
   ]
  },
  {
   "cell_type": "code",
   "execution_count": 24,
   "id": "29d960ea",
   "metadata": {},
   "outputs": [
    {
     "data": {
      "image/png": "[encoded data removed]",
      "text/plain": [
       "<Figure size 720x720 with 1 Axes>"
      ]
     },
     "metadata": {
      "needs_background": "light"
     },
     "output_type": "display_data"
    }
   ],
   "source": [
    "import matplotlib.pyplot as plt\n",
    "\n",
    "def draw_vector(ax, label, color, vec, orig):\n",
    "    vec_end = [orig[0] + vec[0], orig[1] + vec[1]] \n",
    "    ax.annotate(\"\", \n",
    "                xytext=orig,  # arrow begining point\n",
    "                xy=vec_end,   # arrow end point\n",
    "                arrowprops={'color': color});\n",
    "\n",
    "    # Draw a transparent circle around a label to improve visibility\n",
    "    bbox = {'facecolor':'w',\n",
    "            'edgecolor': 'w',\n",
    "            'boxstyle': 'circle',\n",
    "            'alpha': 0.8}\n",
    "\n",
    "    # Add a text in the middle of the arrow\n",
    "    ax.text(orig[0] + 0.5*vec[0], orig[1] + 0.5*vec[1], label,\n",
    "           fontsize=16, bbox=bbox, va='center', ha='center')\n",
    "\n",
    "fig, ax = plt.subplots(figsize=(10,10))\n",
    "\n",
    "ax.set_xlim([-2, 4])\n",
    "ax.set_ylim([-2, 4])\n",
    "\n",
    "ax.set_xlabel('$x_0$')\n",
    "ax.set_ylabel('$x_1$')\n",
    "\n",
    "vec1=[0.98480775,0.17364818]\n",
    "vec2=[-0.64278761,0.76604444]\n",
    "vec3=[-0.34202014,-0.93969262]\n",
    "draw_vector(ax, r'$\\vec v_1$', 'C0', vec1, orig=[0,0])\n",
    "draw_vector(ax, r'$\\vec v_2$', 'C0', vec2,orig=[0,0] )\n",
    "draw_vector(ax, r'$\\vec v_3$', 'C0', vec3, orig=[0,0])\n",
    "ax.grid();"
   ]
  },
  {
   "cell_type": "markdown",
   "id": "e2cc3d01",
   "metadata": {},
   "source": [
    "Create a function that computes a matrix trace: TrA."
   ]
  },
  {
   "cell_type": "code",
   "execution_count": 51,
   "id": "14cd4a6f",
   "metadata": {},
   "outputs": [
    {
     "name": "stdout",
     "output_type": "stream",
     "text": [
      "[3.0, 2.0, -8.1]\n"
     ]
    },
    {
     "data": {
      "text/plain": [
       "-3.0999999999999996"
      ]
     },
     "execution_count": 51,
     "metadata": {},
     "output_type": "execute_result"
    }
   ],
   "source": [
    "def matrix_trace (A):\n",
    "    x=0\n",
    "    list=[]\n",
    "    for i in A:\n",
    "        list.append(i[x])\n",
    "        x+=1\n",
    "    print(list)\n",
    "    a=sum(list)\n",
    "    return a\n",
    "    \n",
    "    \n",
    "A = [[3.0, -4.1, 3.7], [-0.1, 2.0, -9.8], [6.0, -4.5, -8.1]]\n",
    "matrix_trace(A)\n"
   ]
  },
  {
   "cell_type": "markdown",
   "id": "66be533d",
   "metadata": {},
   "source": [
    "Create functions that perform matrix - matrix addition and subtraction: C=A+-B"
   ]
  },
  {
   "cell_type": "code",
   "execution_count": 82,
   "id": "1694baf8",
   "metadata": {},
   "outputs": [
    {
     "data": {
      "text/plain": [
       "(array([[24. , -0.1, 25.7],\n",
       "        [ 2.9, 56. , 11.2],\n",
       "        [44. , -2.5, -7.8]]),\n",
       " array([[-18. ,  -8.1, -18.3],\n",
       "        [ -3.1, -52. , -30.8],\n",
       "        [-32. ,  -6.5,  -8.4]]))"
      ]
     },
     "execution_count": 82,
     "metadata": {},
     "output_type": "execute_result"
    }
   ],
   "source": [
    "import numpy as np\n",
    "\n",
    "def matrix_ad_sub (A,B):\n",
    "            a=np.array(A)\n",
    "            b=np.array(B)\n",
    "            addition=a+b\n",
    "            subtraction=a-b\n",
    "            return addition,subtraction\n",
    "    \n",
    "A = [[3.0, -4.1, 3.7], [-0.1, 2.0, -9.8], [6.0, -4.5, -8.1]]\n",
    "B= [[21,4,22],[3,54,21],[38,2,0.3]]\n",
    "matrix_ad_sub(A,B)"
   ]
  },
  {
   "cell_type": "markdown",
   "id": "ed112a6a",
   "metadata": {},
   "source": [
    " Create a function that performs left vector - matrix multiplication: xA=y."
   ]
  },
  {
   "cell_type": "code",
   "execution_count": 38,
   "id": "1c5f70dd",
   "metadata": {},
   "outputs": [
    {
     "name": "stdout",
     "output_type": "stream",
     "text": [
      "[ 116  -38 -111]\n"
     ]
    }
   ],
   "source": [
    "import numpy as np\n",
    "def vec_mat_mult (A,B):\n",
    "        a=np.array(A)\n",
    "        print(B@a)\n",
    "    \n",
    "A = [[3, -5, 4], [8 , 2, -9], [6, -4, -8]]\n",
    "B=[4,7,8]\n",
    "vec_mat_mult(A,B)"
   ]
  },
  {
   "cell_type": "markdown",
   "id": "ceed8d10",
   "metadata": {},
   "source": [
    "Create a function that generates an identity matrix of a given size. You can not solve the problem just by calling the defined above function matrix_diag."
   ]
  },
  {
   "cell_type": "code",
   "execution_count": 48,
   "id": "91baabc3",
   "metadata": {},
   "outputs": [
    {
     "name": "stdout",
     "output_type": "stream",
     "text": [
      "Number of rows and columns 5\n",
      "[[1. 0. 0. 0. 0.]\n",
      " [0. 1. 0. 0. 0.]\n",
      " [0. 0. 1. 0. 0.]\n",
      " [0. 0. 0. 1. 0.]\n",
      " [0. 0. 0. 0. 1.]]\n"
     ]
    }
   ],
   "source": [
    "import numpy as np\n",
    "def ident_matr (a):\n",
    "    matrx = np.zeros((a, a))\n",
    "    x=0\n",
    "    for i in matrx:\n",
    "        i[x]=1\n",
    "        x+=1\n",
    "    print(matrx)\n",
    "\n",
    "row_col= int(input(\"Number of rows and columns \"))\n",
    "\n",
    "ident_matr(row_col)"
   ]
  }
 ],
 "metadata": {
  "kernelspec": {
   "display_name": "Python 3",
   "language": "python",
   "name": "python3"
  },
  "language_info": {
   "codemirror_mode": {
    "name": "ipython",
    "version": 3
   },
   "file_extension": ".py",
   "mimetype": "text/x-python",
   "name": "python",
   "nbconvert_exporter": "python",
   "pygments_lexer": "ipython3",
   "version": "3.8.8"
  }
 },
 "nbformat": 4,
 "nbformat_minor": 5
}
