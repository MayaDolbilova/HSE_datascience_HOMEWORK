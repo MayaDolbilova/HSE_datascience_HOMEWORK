{
 "cells": [
  {
   "cell_type": "markdown",
   "id": "b3f23202",
   "metadata": {},
   "source": [
    "LESSON 3"
   ]
  },
  {
   "cell_type": "markdown",
   "id": "30b6fc7f",
   "metadata": {},
   "source": [
    "Create a program that determines and displays the number of unique characters in a string entered by the user. For example, \"Hello, World!\" has 10 unique characters while \"zzz\" has only one unique character. Use a dictionary or set to solve this problem."
   ]
  },
  {
   "cell_type": "code",
   "execution_count": 18,
   "id": "2d79e1c8",
   "metadata": {},
   "outputs": [
    {
     "name": "stdout",
     "output_type": "stream",
     "text": [
      "Give a string, please: kell\n",
      "Your string kell has 3 unique characters\n"
     ]
    }
   ],
   "source": [
    "string=input(\"Give a string, please: \")\n",
    "no_repetition=set(string)\n",
    "result=len(no_repetition)\n",
    "print(f\"Your string {string} has {result} unique characters\")"
   ]
  },
  {
   "cell_type": "markdown",
   "id": "da744996",
   "metadata": {},
   "source": [
    " Pig Latin is a language constructed by transforming English words. While the origins of the language are unknown, it is mentioned in at least two documents from the nineteenth century, suggesting that it has existed for more than 100 years. The following rules are used to translate English into Pig Latin:\n",
    "\n",
    "If the word begins with a consonant (including y), then all letters at the beginning of the word, up to the first vowel (excluding y), are removed and then added to the end of the word, followed by ay. For example, computer becomes omputercay and think becomes inkthay.\n",
    "If the word begins with a vowel (not including y), then way is added to the end of the word. For example, algorithm becomes algorithmway and office becomes officeway.\n",
    "Write a program that reads a line of text from the user. Then your program should translate the line into Pig Latin and display the result. You may assume that the string entered by the user only contains lowercase letters and spaces."
   ]
  },
  {
   "cell_type": "code",
   "execution_count": 98,
   "id": "1741adc3",
   "metadata": {},
   "outputs": [
    {
     "name": "stdout",
     "output_type": "stream",
     "text": [
      "how are you today\n",
      "owhay areway ouyay odaytay \n"
     ]
    }
   ],
   "source": [
    "string=input()\n",
    "vowels=\"aeiou\"\n",
    "words=string.split(\" \") \n",
    "final=\"\"\n",
    "count=0\n",
    "for word in words:\n",
    "    if word[0] in vowels:\n",
    "        final+=word\n",
    "        final+=\"way \"\n",
    "        \n",
    "    else: \n",
    "        word=word[1:]+word[0]\n",
    "        final+=word\n",
    "        final+=\"ay \"\n",
    "    \n",
    "print(final)\n",
    "        "
   ]
  },
  {
   "cell_type": "markdown",
   "id": "466dd20b",
   "metadata": {},
   "source": [
    "Create a class that checks the authorization. Its constructor takes correct user name and password and store them as attributes. To increase security the password must not be stored as it is. Convert it to hash using function hash(). Also the class has a method check that accepts a user name and password input by a user and return True if they are correct and False otherwise. Write a program that demonstrates how this class works."
   ]
  },
  {
   "cell_type": "code",
   "execution_count": 151,
   "id": "788199b0",
   "metadata": {},
   "outputs": [
    {
     "name": "stdout",
     "output_type": "stream",
     "text": [
      "Admin is created\n",
      "45567438901932510\n",
      "Please, enter your name: Maya\n",
      "Please,enter password:bea443\n"
     ]
    },
    {
     "data": {
      "text/plain": [
       "False"
      ]
     },
     "execution_count": 151,
     "metadata": {},
     "output_type": "execute_result"
    }
   ],
   "source": [
    "class Initialization():\n",
    "    def __init__(self, name, password):\n",
    "        self.name=name\n",
    "        self.password=password\n",
    "        print(\"Admin is created\")\n",
    "    def check(self):\n",
    "        a=input(\"Please, enter your name: \")\n",
    "        b=hash(input(\"Please,enter password:\"))\n",
    "        if a==self.name and b==self.password:\n",
    "            return True\n",
    "        else:\n",
    "            return False\n",
    "admin=Initialization(\"Maya\", hash(\"beca7us123\"))\n",
    "print(admin.password)\n",
    "admin.check()\n",
    "\n",
    "\n",
    "        \n",
    "        "
   ]
  },
  {
   "cell_type": "markdown",
   "id": "eece8786",
   "metadata": {},
   "source": [
    "LESSON 4"
   ]
  },
  {
   "cell_type": "markdown",
   "id": "450c4145",
   "metadata": {},
   "source": [
    "Write a program that creates a NumPy array containing 20 zeros, then reshape it to get a two-dimensional array with 5 rows and 4 columns. Print this array. Now assign to its middle area 1 to obtain an array whose the first and the last rows as well as the first and the last columns contain 0 and all others are 1. Print this array."
   ]
  },
  {
   "cell_type": "code",
   "execution_count": 276,
   "id": "2a42b626",
   "metadata": {},
   "outputs": [
    {
     "name": "stdout",
     "output_type": "stream",
     "text": [
      "[[0. 0. 0. 0.]\n",
      " [0. 1. 1. 0.]\n",
      " [0. 1. 1. 0.]\n",
      " [0. 1. 1. 0.]\n",
      " [0. 0. 0. 0.]]\n"
     ]
    }
   ],
   "source": [
    "import numpy as np \n",
    "c = np.zeros(20)\n",
    "b=c.reshape(5,4)\n",
    "b[1:4,1:3]=1\n",
    "print(b)"
   ]
  },
  {
   "cell_type": "code",
   "execution_count": 277,
   "id": "de2b4308",
   "metadata": {},
   "outputs": [],
   "source": [
    "file_name = \"presidents.csv\"\n",
    "\n",
    "txt = ['Garfield, 183', 'Obama, 185', 'Bush, 182', 'Reagan, 185', 'Kennedy, 185', 'Grant, 173', 'Taft, 182', 'Johnson, 192', 'Coolidge, 178', 'Arthur, 188', 'Bush, 188', 'Wilson, 180', 'Monroe, 183', 'Buchanan, 183', 'Roosevelt, 188', 'Johnson, 178', 'Cleveland, 180', 'Jackson, 185', 'McKinley, 170', 'Harrison, 168', 'Polk, 173', 'Taylor, 173', 'Truman, 175', 'Harding, 183', 'Buren, 168', 'Ford, 183', 'Clinton, 188', 'Carter, 177', 'Q_Adams, 171', 'Trump, 191', 'Jefferson, 189', 'Nixon, 182', 'Pierce, 178', 'Washington, 188', 'Lincoln, 193', 'Madison, 163', 'Hoover, 182', 'Roosevelt, 178', 'Adams, 170', 'Tyler, 183', 'Fillmore, 175', 'Harrison, 173', 'Hayes, 174', 'Eisenhower, 179']\n",
    "with open(file_name, \"w\") as f:\n",
    "    for s in txt:\n",
    "        f.write(s + '\\n')"
   ]
  },
  {
   "cell_type": "markdown",
   "id": "8af5db63",
   "metadata": {},
   "source": [
    "Create a program that reads president heights form a file presidents.csv and store them into a NumPy array. Execute the section above to get this file in your working directory. Read only heights, without names. Then compute and print the smallest, the biggest and the mean height.\n",
    "I MADE TWO WAYS OF SOLVING\n",
    "\n"
   ]
  },
  {
   "cell_type": "code",
   "execution_count": 382,
   "id": "1176ee08",
   "metadata": {},
   "outputs": [
    {
     "name": "stdout",
     "output_type": "stream",
     "text": [
      "['183', '185', '182', '185', '185', '173', '182', '192', '178', '188', '188', '180', '183', '183', '188', '178', '180', '185', '170', '168', '173', '173', '175', '183', '168', '183', '188', '177', '171', '191', '189', '182', '178', '188', '193', '163', '182', '178', '170', '183', '175', '173', '174', '179']\n",
      "Максимальный рост равен 193, минимальный рост равен 163, средний рост равен 180\n"
     ]
    }
   ],
   "source": [
    "file_name = \"presidents.csv\"\n",
    "\n",
    "with open(file_name, 'r') as f:\n",
    "    dat = []\n",
    "    for line in f:\n",
    "        s = line.split(',')\n",
    "        s = [c.strip() for c in s]\n",
    "        dat.append(s[1])\n",
    "print(dat)\n",
    "max_height=max(dat)\n",
    "min_height=min(dat)\n",
    "count=len(dat)\n",
    "s=map(int,dat)\n",
    "summ=sum(s)\n",
    "average_height=int(summ/count)\n",
    "print(f\"Максимальный рост равен {max_height}, минимальный рост равен {min_height}, средний рост равен {average_height}\")"
   ]
  },
  {
   "cell_type": "code",
   "execution_count": 381,
   "id": "46be483c",
   "metadata": {},
   "outputs": [
    {
     "name": "stdout",
     "output_type": "stream",
     "text": [
      "[183. 185. 182. 185. 185. 173. 182. 192. 178. 188. 188. 180. 183. 183.\n",
      " 188. 178. 180. 185. 170. 168. 173. 173. 175. 183. 168. 183. 188. 177.\n",
      " 171. 191. 189. 182. 178. 188. 193. 163. 182. 178. 170. 183. 175. 173.\n",
      " 174. 179.]\n",
      "Максимальный рост равен 193, минимальный рост равен 163, средний рост равен 180\n"
     ]
    }
   ],
   "source": [
    "import numpy as np\n",
    "from numpy import genfromtxt\n",
    "file_name = \"presidents.csv\"\n",
    "count=0\n",
    "my_data = genfromtxt('presidents.csv', delimiter=',')\n",
    "heights=my_data[:,1]\n",
    "print(heights)\n",
    "summ=heights.sum()\n",
    "amount=len(heights)\n",
    "average_height=int(summ/amount)\n",
    "max_height=int(heights.max())\n",
    "min_height=int(heights.min())\n",
    "print(f\"Максимальный рост равен {max_height}, минимальный рост равен {min_height}, средний рост равен {average_height}\")"
   ]
  },
  {
   "cell_type": "markdown",
   "id": "19fd7976",
   "metadata": {},
   "source": [
    "First run the above section to get a file \"sleep.csv\". This file contains three columns: sex, country and sleeping time. Create a program that reads this file converting the sleeping time from 'hh:mm' format to an integer numbers of minutes. Now print the answers to the following questions: What are the largest and the smallest sleeping time for males and females? In which country people sleep more? What is the average sleeping time?"
   ]
  },
  {
   "cell_type": "code",
   "execution_count": 383,
   "id": "fbb9c875",
   "metadata": {},
   "outputs": [],
   "source": [
    "# Run this section to get a file with sleep time\n",
    "file_name = \"sleep.csv\"\n",
    "\n",
    "txt = [\"Males, Belgium, 8:15\",\"Males, Bulgaria, 9:08\",\"Males, Germany, 8:08\",\"Males, Estonia, 8:24\",\"Males, Spain, 8:36\",\"Males, France, 8:45\",\"Males, Italy, 8:17\",\"Males, Latvia, 8:35\",\"Males, Lithuania, 8:28\",\"Males, Poland, 8:21\",\"Males, Slovenia, 8:18\",\"Males, Finland, 8:22\",\"Males, United Kingdom, 8:18\",\"Males, Norway, 7:56\",\"Females, Belgium, 8:34\",\"Females, Bulgaria, 9:07\",\"Females, Germany, 8:15\",\"Females, Estonia, 8:26\",\"Females, Spain, 8:32\",\"Females, France, 8:55\",\"Females, Italy, 8:19\",\"Females, Latvia, 8:44\",\"Females, Lithuania, 8:35\",\"Females, Poland, 8:35\",\"Females, Slovenia, 8:25\",\"Females, Finland, 8:32\",\"Females, United Kingdom, 8:27\",\"Females, Norway, 8:10\"]\n",
    "with open(file_name, \"w\") as f:\n",
    "    for s in txt:\n",
    "        f.write(s + '\\n')\n"
   ]
  },
  {
   "cell_type": "code",
   "execution_count": 450,
   "id": "f256a6c0",
   "metadata": {},
   "outputs": [
    {
     "name": "stdout",
     "output_type": "stream",
     "text": [
      "The largest time for male is 548 minutes and the smallest time is 476 minutes\n",
      "The largest time for female is 547 minutes and the smallest time is 490 minutes\n",
      "Average time of sleep is 508 minutes\n"
     ]
    }
   ],
   "source": [
    "#Converting given time to minutes and finding max and min time of sleep for fem and male\n",
    "def convert_to_minutes(array,gender):\n",
    "    s=[]\n",
    "    for i in array:\n",
    "        input_time=i\n",
    "        t=input_time.split(':')\n",
    "        total_minutes= int(t[0])*60+int(t[1])*1\n",
    "        s.append(total_minutes)\n",
    "    max_time=max(s)\n",
    "    min_time=min(s)\n",
    "    print(f\"The largest time for {gender} is {max_time} minutes and the smallest time is {min_time} minutes\")\n",
    "\n",
    "#Converting to minutes for average amount of time\n",
    "def without_gender(j):\n",
    "        input_time=j\n",
    "        t=input_time.split(':')\n",
    "        total_minutes= int(t[0])*60+int(t[1])*1\n",
    "        return total_minutes\n",
    "    \n",
    "#body\n",
    "import numpy as np\n",
    "file_name = \"sleep.csv\"\n",
    "#creating lists of male and female time of sleep and common list\n",
    "with open(file_name, 'r') as f:\n",
    "    dat=[]\n",
    "    dat_male = []\n",
    "    dat_fem=[]\n",
    "    countries=[]\n",
    "    time=[]\n",
    "    for line in f:\n",
    "        s = line.split(',')\n",
    "        s = [c.strip() for c in s]\n",
    "        dat.append(s[2])\n",
    "        countries.append(s[1])\n",
    "        if s[0]==\"Males\":\n",
    "            dat_male.append(s[2])\n",
    "        else:\n",
    "            dat_fem.append(s[2])\n",
    "#converting to minutes time in 'gender' lists\n",
    "convert_to_minutes(dat_male,\"male\")\n",
    "convert_to_minutes(dat_fem, \"female\")\n",
    "\n",
    "#finding country where people sleep more \n",
    "for i,j in enumerate(time):\n",
    "    if j==max(time):\n",
    "        print(\"People sleep more in\", countries[i])  \n",
    "\n",
    "#finding average time of sleep\n",
    "for i in dat:\n",
    "    a=without_gender(i)\n",
    "    time.append(a)\n",
    "summ=sum(time)\n",
    "average_time=int(summ/len(time))\n",
    "print(f\"Average time of sleep is {average_time} minutes\")\n",
    "    "
   ]
  }
 ],
 "metadata": {
  "kernelspec": {
   "display_name": "Python 3",
   "language": "python",
   "name": "python3"
  },
  "language_info": {
   "codemirror_mode": {
    "name": "ipython",
    "version": 3
   },
   "file_extension": ".py",
   "mimetype": "text/x-python",
   "name": "python",
   "nbconvert_exporter": "python",
   "pygments_lexer": "ipython3",
   "version": "3.8.8"
  }
 },
 "nbformat": 4,
 "nbformat_minor": 5
}
